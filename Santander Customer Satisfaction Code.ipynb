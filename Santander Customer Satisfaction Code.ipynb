{
 "cells": [
  {
   "cell_type": "markdown",
   "metadata": {
    "deletable": true,
    "editable": true
   },
   "source": [
    "# Santander Customer Satisfaction"
   ]
  },
  {
   "cell_type": "markdown",
   "metadata": {
    "deletable": true,
    "editable": true
   },
   "source": [
    "## Initialization"
   ]
  },
  {
   "cell_type": "markdown",
   "metadata": {
    "deletable": true,
    "editable": true
   },
   "source": [
    "### Dependencies"
   ]
  },
  {
   "cell_type": "code",
   "execution_count": 1,
   "metadata": {
    "collapsed": false,
    "deletable": true,
    "editable": true
   },
   "outputs": [],
   "source": [
    "import pandas as pd\n",
    "import numpy as np\n",
    "from matplotlib import pyplot as plt\n",
    "import seaborn as sns\n",
    "from sklearn.decomposition import PCA\n",
    "from sklearn.metrics import roc_auc_score\n",
    "from sklearn.model_selection import train_test_split\n",
    "import random\n",
    "from IPython.display import display\n",
    "from collections import Counter\n",
    "from sklearn.preprocessing import MinMaxScaler\n",
    "from sklearn.model_selection import train_test_split\n",
    "from sklearn.tree import DecisionTreeRegressor"
   ]
  },
  {
   "cell_type": "markdown",
   "metadata": {
    "deletable": true,
    "editable": true
   },
   "source": [
    "### Visualization Settings"
   ]
  },
  {
   "cell_type": "code",
   "execution_count": 2,
   "metadata": {
    "collapsed": false,
    "deletable": true,
    "editable": true
   },
   "outputs": [],
   "source": [
    "%matplotlib inline\n",
    "pd.options.display.float_format = '{:.6f}'.format\n",
    "sns.set(style=\"white\", color_codes=True)"
   ]
  },
  {
   "cell_type": "markdown",
   "metadata": {
    "deletable": true,
    "editable": true
   },
   "source": [
    "### Files"
   ]
  },
  {
   "cell_type": "code",
   "execution_count": 3,
   "metadata": {
    "collapsed": true,
    "deletable": true,
    "editable": true
   },
   "outputs": [],
   "source": [
    "train = pd.read_csv('train.csv')\n",
    "test = pd.read_csv('test.csv')"
   ]
  },
  {
   "cell_type": "markdown",
   "metadata": {
    "deletable": true,
    "editable": true
   },
   "source": [
    "### Overview"
   ]
  },
  {
   "cell_type": "code",
   "execution_count": 4,
   "metadata": {
    "collapsed": false,
    "deletable": true,
    "editable": true
   },
   "outputs": [
    {
     "name": "stdout",
     "output_type": "stream",
     "text": [
      "(76020, 371)\n",
      "(75818, 370)\n",
      "{'TARGET'}\n"
     ]
    }
   ],
   "source": [
    "print(train.shape)\n",
    "print(test.shape)\n",
    "print(set(train.columns) - set(test.columns))"
   ]
  },
  {
   "cell_type": "code",
   "execution_count": 5,
   "metadata": {
    "collapsed": false,
    "deletable": true,
    "editable": true
   },
   "outputs": [
    {
     "name": "stdout",
     "output_type": "stream",
     "text": [
      "Total number of customers: 76020\n",
      "Number of satisfied customers: 73012\n",
      "Number of unsatisfied customers: 3008\n",
      "Satisfaction rate: 96.04%\n",
      "Number of features: 369\n"
     ]
    }
   ],
   "source": [
    "n_customers = len(train)\n",
    "n_unsatisfied = train.TARGET.sum()\n",
    "n_satisfied = (train.TARGET==0).sum()\n",
    "satisfaction_rate = float(n_satisfied)/n_customers\n",
    "\n",
    "features = test.columns.drop('ID').tolist()\n",
    "n_features = len(features)\n",
    "\n",
    "print(\"Total number of customers: {}\".format(n_customers))\n",
    "print(\"Number of satisfied customers: {}\".format(n_satisfied))\n",
    "print(\"Number of unsatisfied customers: {}\".format(n_unsatisfied))\n",
    "print(\"Satisfaction rate: {:.2f}%\".format(satisfaction_rate*100))\n",
    "print(\"Number of features: {}\".format(n_features))"
   ]
  },
  {
   "cell_type": "code",
   "execution_count": 6,
   "metadata": {
    "collapsed": false,
    "deletable": true,
    "editable": true
   },
   "outputs": [
    {
     "name": "stdout",
     "output_type": "stream",
     "text": [
      "No repeated ID\n"
     ]
    }
   ],
   "source": [
    "if len(set(train.ID)) == len(train):\n",
    "    print('No repeated ID')"
   ]
  },
  {
   "cell_type": "code",
   "execution_count": 7,
   "metadata": {
    "collapsed": false,
    "deletable": true,
    "editable": true
   },
   "outputs": [],
   "source": [
    "train_id = train.ID\n",
    "test_id = test.ID\n",
    "train.drop('ID', inplace=True, axis=1)\n",
    "test.drop('ID', inplace=True, axis=1)"
   ]
  },
  {
   "cell_type": "code",
   "execution_count": 8,
   "metadata": {
    "collapsed": false,
    "deletable": true,
    "editable": true
   },
   "outputs": [
    {
     "data": {
      "image/png": "[encoded data removed]",
      "text/plain": [
       "<matplotlib.figure.Figure at 0x113496ac8>"
      ]
     },
     "metadata": {},
     "output_type": "display_data"
    }
   ],
   "source": [
    "sns.countplot(train.TARGET);\n",
    "plt.title('Unbalanced dataset');"
   ]
  },
  {
   "cell_type": "code",
   "execution_count": 9,
   "metadata": {
    "collapsed": true,
    "deletable": true,
    "editable": true
   },
   "outputs": [],
   "source": [
    "target = train.TARGET\n",
    "train.drop('TARGET', inplace=True, axis=1)"
   ]
  },
  {
   "cell_type": "markdown",
   "metadata": {
    "deletable": true,
    "editable": true
   },
   "source": [
    "## Data Preparation"
   ]
  },
  {
   "cell_type": "code",
   "execution_count": 10,
   "metadata": {
    "collapsed": false,
    "deletable": true,
    "editable": true,
    "scrolled": true
   },
   "outputs": [],
   "source": [
    "def replace_weird(dfs, weird = [-999999, 9999999999.00]):\n",
    "    for df in dfs:\n",
    "        modes = df.mode()\n",
    "        for col in df.columns:\n",
    "            if any([i in df[col].values for i in weird]):\n",
    "#                 df['weird_'+col] = df[col].isin(weird)\n",
    "                df[col].mask(df[col].isin(weird), modes[col][0], inplace=True)\n",
    "\n",
    "replace_weird([train, test])"
   ]
  },
  {
   "cell_type": "code",
   "execution_count": 11,
   "metadata": {
    "collapsed": false,
    "deletable": true,
    "editable": true,
    "scrolled": true
   },
   "outputs": [],
   "source": [
    "def remove_useless(dfs):\n",
    "    remove = []\n",
    "    for df in dfs:\n",
    "        for col in df.columns:\n",
    "            if df[col].std() == 0:\n",
    "                remove.append(col)\n",
    "    for df in dfs:\n",
    "        df.drop(set(remove), axis=1, inplace=True)\n",
    "\n",
    "remove_useless([train, test])"
   ]
  },
  {
   "cell_type": "code",
   "execution_count": 12,
   "metadata": {
    "collapsed": false,
    "deletable": true,
    "editable": true
   },
   "outputs": [
    {
     "name": "stdout",
     "output_type": "stream",
     "text": [
      "Duplicated columns on test set are also duplicated on training set.          \n",
      "All duplicated being removed from both sets\n"
     ]
    }
   ],
   "source": [
    "def duplicated(df):\n",
    "    duplicated = []\n",
    "    c = df.columns\n",
    "    for i in range(len(c)-1):\n",
    "        v = df[c[i]].values\n",
    "        for j in range(i+1,len(c)):\n",
    "            if np.array_equal(v,df[c[j]].values):\n",
    "                duplicated.append(c[j])\n",
    "    return set(duplicated)\n",
    "\n",
    "\n",
    "duplicated_train = duplicated(train)\n",
    "duplicated_test = duplicated(test)\n",
    "\n",
    "if duplicated_test.issubset(duplicated_train):\n",
    "    print('Duplicated columns on test set are also duplicated on training set.\\\n",
    "          \\nAll duplicated being removed from both sets')\n",
    "    train.drop(duplicated_train, axis=1, inplace=True)\n",
    "    test.drop(duplicated_train, axis=1, inplace=True)"
   ]
  },
  {
   "cell_type": "code",
   "execution_count": 13,
   "metadata": {
    "collapsed": false,
    "deletable": true,
    "editable": true
   },
   "outputs": [],
   "source": [
    "train['ind_var10_cte_ult1'] = train['ind_var10cte_ult1']\n",
    "test['ind_var10_cte_ult1'] = test['ind_var10cte_ult1']\n",
    "\n",
    "train = train.drop(['ind_var10cte_ult1'], axis=1)\n",
    "test = test.drop(['ind_var10cte_ult1'], axis=1)"
   ]
  },
  {
   "cell_type": "code",
   "execution_count": 14,
   "metadata": {
    "collapsed": false,
    "deletable": true,
    "editable": true
   },
   "outputs": [
    {
     "name": "stdout",
     "output_type": "stream",
     "text": [
      "292\n"
     ]
    }
   ],
   "source": [
    "features = test.columns.tolist()\n",
    "n_features = len(features)\n",
    "print(n_features)"
   ]
  },
  {
   "cell_type": "markdown",
   "metadata": {
    "deletable": true,
    "editable": true
   },
   "source": [
    "## Exploring"
   ]
  },
  {
   "cell_type": "code",
   "execution_count": 15,
   "metadata": {
    "collapsed": true,
    "deletable": true,
    "editable": true
   },
   "outputs": [],
   "source": [
    "def get_variable(s):\n",
    "    return [i for i in s.split('_') if 'var' in i][0]"
   ]
  },
  {
   "cell_type": "code",
   "execution_count": 16,
   "metadata": {
    "collapsed": false,
    "deletable": true,
    "editable": true
   },
   "outputs": [
    {
     "data": {
      "text/plain": [
       "[('var13', 18),\n",
       " ('var44', 13),\n",
       " ('var17', 12),\n",
       " ('var33', 9),\n",
       " ('var40', 6),\n",
       " ('var39', 5)]"
      ]
     },
     "execution_count": 16,
     "metadata": {},
     "output_type": "execute_result"
    }
   ],
   "source": [
    "common_vars = Counter([get_variable(c) for c in train.select_dtypes('float').columns]).most_common(6)\n",
    "common_vars"
   ]
  },
  {
   "cell_type": "code",
   "execution_count": 17,
   "metadata": {
    "collapsed": false,
    "deletable": true,
    "editable": true
   },
   "outputs": [],
   "source": [
    "variables = list(set([get_variable(c) for c in train.columns]))\n",
    "var_samples = [v[0] for v in common_vars]\n",
    "cols_samples = [c for c in train.select_dtypes('float').columns if get_variable(c) in var_samples]"
   ]
  },
  {
   "cell_type": "code",
   "execution_count": 18,
   "metadata": {
    "collapsed": false,
    "deletable": true,
    "editable": true,
    "scrolled": true
   },
   "outputs": [],
   "source": [
    "pca = PCA(2)\n",
    "corr = train[cols_samples].corr()\n",
    "corr = corr.reset_index()\n",
    "corr['variable'] = corr['index'].apply(get_variable)\n",
    "corr = corr.groupby('variable').sum().T"
   ]
  },
  {
   "cell_type": "code",
   "execution_count": 19,
   "metadata": {
    "collapsed": false,
    "deletable": true,
    "editable": true,
    "scrolled": true
   },
   "outputs": [
    {
     "data": {
      "text/html": [
       "<div>\n",
       "<style scoped>\n",
       "    .dataframe tbody tr th:only-of-type {\n",
       "        vertical-align: middle;\n",
       "    }\n",
       "\n",
       "    .dataframe tbody tr th {\n",
       "        vertical-align: top;\n",
       "    }\n",
       "\n",
       "    .dataframe thead th {\n",
       "        text-align: right;\n",
       "    }\n",
       "</style>\n",
       "<table border=\"1\" class=\"dataframe\">\n",
       "  <thead>\n",
       "    <tr style=\"text-align: right;\">\n",
       "      <th>variable</th>\n",
       "      <th>var13</th>\n",
       "      <th>var17</th>\n",
       "      <th>var33</th>\n",
       "      <th>var39</th>\n",
       "      <th>var40</th>\n",
       "      <th>var44</th>\n",
       "    </tr>\n",
       "  </thead>\n",
       "  <tbody>\n",
       "    <tr>\n",
       "      <th>imp_op_var39_comer_ult1</th>\n",
       "      <td>-0.091496</td>\n",
       "      <td>-0.009349</td>\n",
       "      <td>0.041839</td>\n",
       "      <td>3.106297</td>\n",
       "      <td>1.257799</td>\n",
       "      <td>0.065151</td>\n",
       "    </tr>\n",
       "    <tr>\n",
       "      <th>imp_op_var39_comer_ult3</th>\n",
       "      <td>-0.105383</td>\n",
       "      <td>-0.015975</td>\n",
       "      <td>0.047874</td>\n",
       "      <td>3.021855</td>\n",
       "      <td>1.274931</td>\n",
       "      <td>0.062068</td>\n",
       "    </tr>\n",
       "    <tr>\n",
       "      <th>imp_op_var40_comer_ult1</th>\n",
       "      <td>0.086057</td>\n",
       "      <td>0.033690</td>\n",
       "      <td>-0.006795</td>\n",
       "      <td>1.018762</td>\n",
       "      <td>3.493097</td>\n",
       "      <td>-0.003133</td>\n",
       "    </tr>\n",
       "    <tr>\n",
       "      <th>imp_op_var40_comer_ult3</th>\n",
       "      <td>0.072513</td>\n",
       "      <td>0.011480</td>\n",
       "      <td>-0.007530</td>\n",
       "      <td>0.940759</td>\n",
       "      <td>3.346345</td>\n",
       "      <td>-0.004127</td>\n",
       "    </tr>\n",
       "    <tr>\n",
       "      <th>imp_op_var40_efect_ult1</th>\n",
       "      <td>-0.013730</td>\n",
       "      <td>-0.000691</td>\n",
       "      <td>-0.000796</td>\n",
       "      <td>0.413933</td>\n",
       "      <td>2.626585</td>\n",
       "      <td>-0.001587</td>\n",
       "    </tr>\n",
       "  </tbody>\n",
       "</table>\n",
       "</div>"
      ],
      "text/plain": [
       "variable                    var13     var17     var33    var39    var40  \\\n",
       "imp_op_var39_comer_ult1 -0.091496 -0.009349  0.041839 3.106297 1.257799   \n",
       "imp_op_var39_comer_ult3 -0.105383 -0.015975  0.047874 3.021855 1.274931   \n",
       "imp_op_var40_comer_ult1  0.086057  0.033690 -0.006795 1.018762 3.493097   \n",
       "imp_op_var40_comer_ult3  0.072513  0.011480 -0.007530 0.940759 3.346345   \n",
       "imp_op_var40_efect_ult1 -0.013730 -0.000691 -0.000796 0.413933 2.626585   \n",
       "\n",
       "variable                    var44  \n",
       "imp_op_var39_comer_ult1  0.065151  \n",
       "imp_op_var39_comer_ult3  0.062068  \n",
       "imp_op_var40_comer_ult1 -0.003133  \n",
       "imp_op_var40_comer_ult3 -0.004127  \n",
       "imp_op_var40_efect_ult1 -0.001587  "
      ]
     },
     "execution_count": 19,
     "metadata": {},
     "output_type": "execute_result"
    }
   ],
   "source": [
    "corr.head()"
   ]
  },
  {
   "cell_type": "code",
   "execution_count": 20,
   "metadata": {
    "collapsed": true,
    "deletable": true,
    "editable": true
   },
   "outputs": [],
   "source": [
    "pca_data = pca.fit_transform(corr)\n",
    "pca_data = pd.DataFrame(pca_data, columns = ['PCA Dimension 1', 'PCA Dimension 2'], index=corr.index)"
   ]
  },
  {
   "cell_type": "code",
   "execution_count": 21,
   "metadata": {
    "collapsed": false,
    "deletable": true,
    "editable": true,
    "scrolled": true
   },
   "outputs": [
    {
     "data": {
      "text/html": [
       "<div>\n",
       "<style scoped>\n",
       "    .dataframe tbody tr th:only-of-type {\n",
       "        vertical-align: middle;\n",
       "    }\n",
       "\n",
       "    .dataframe tbody tr th {\n",
       "        vertical-align: top;\n",
       "    }\n",
       "\n",
       "    .dataframe thead th {\n",
       "        text-align: right;\n",
       "    }\n",
       "</style>\n",
       "<table border=\"1\" class=\"dataframe\">\n",
       "  <thead>\n",
       "    <tr style=\"text-align: right;\">\n",
       "      <th></th>\n",
       "      <th>PCA Dimension 1</th>\n",
       "      <th>PCA Dimension 2</th>\n",
       "    </tr>\n",
       "  </thead>\n",
       "  <tbody>\n",
       "    <tr>\n",
       "      <th>imp_op_var39_comer_ult1</th>\n",
       "      <td>-0.976697</td>\n",
       "      <td>-0.597967</td>\n",
       "    </tr>\n",
       "    <tr>\n",
       "      <th>imp_op_var39_comer_ult3</th>\n",
       "      <td>-0.981989</td>\n",
       "      <td>-0.598568</td>\n",
       "    </tr>\n",
       "    <tr>\n",
       "      <th>imp_op_var40_comer_ult1</th>\n",
       "      <td>-0.774900</td>\n",
       "      <td>-0.502379</td>\n",
       "    </tr>\n",
       "    <tr>\n",
       "      <th>imp_op_var40_comer_ult3</th>\n",
       "      <td>-0.765758</td>\n",
       "      <td>-0.506350</td>\n",
       "    </tr>\n",
       "    <tr>\n",
       "      <th>imp_op_var40_efect_ult1</th>\n",
       "      <td>-0.752256</td>\n",
       "      <td>-0.437745</td>\n",
       "    </tr>\n",
       "  </tbody>\n",
       "</table>\n",
       "</div>"
      ],
      "text/plain": [
       "                         PCA Dimension 1  PCA Dimension 2\n",
       "imp_op_var39_comer_ult1        -0.976697        -0.597967\n",
       "imp_op_var39_comer_ult3        -0.981989        -0.598568\n",
       "imp_op_var40_comer_ult1        -0.774900        -0.502379\n",
       "imp_op_var40_comer_ult3        -0.765758        -0.506350\n",
       "imp_op_var40_efect_ult1        -0.752256        -0.437745"
      ]
     },
     "execution_count": 21,
     "metadata": {},
     "output_type": "execute_result"
    }
   ],
   "source": [
    "pca_data.head()"
   ]
  },
  {
   "cell_type": "code",
   "execution_count": 22,
   "metadata": {
    "collapsed": false,
    "deletable": true,
    "editable": true
   },
   "outputs": [
    {
     "data": {
      "text/html": [
       "<div>\n",
       "<style scoped>\n",
       "    .dataframe tbody tr th:only-of-type {\n",
       "        vertical-align: middle;\n",
       "    }\n",
       "\n",
       "    .dataframe tbody tr th {\n",
       "        vertical-align: top;\n",
       "    }\n",
       "\n",
       "    .dataframe thead th {\n",
       "        text-align: right;\n",
       "    }\n",
       "</style>\n",
       "<table border=\"1\" class=\"dataframe\">\n",
       "  <thead>\n",
       "    <tr style=\"text-align: right;\">\n",
       "      <th></th>\n",
       "      <th>index</th>\n",
       "      <th>PCA Dimension 1</th>\n",
       "      <th>PCA Dimension 2</th>\n",
       "      <th>variable</th>\n",
       "    </tr>\n",
       "  </thead>\n",
       "  <tbody>\n",
       "    <tr>\n",
       "      <th>0</th>\n",
       "      <td>imp_op_var39_comer_ult1</td>\n",
       "      <td>-0.976697</td>\n",
       "      <td>-0.597967</td>\n",
       "      <td>var39</td>\n",
       "    </tr>\n",
       "    <tr>\n",
       "      <th>1</th>\n",
       "      <td>imp_op_var39_comer_ult3</td>\n",
       "      <td>-0.981989</td>\n",
       "      <td>-0.598568</td>\n",
       "      <td>var39</td>\n",
       "    </tr>\n",
       "    <tr>\n",
       "      <th>2</th>\n",
       "      <td>imp_op_var40_comer_ult1</td>\n",
       "      <td>-0.774900</td>\n",
       "      <td>-0.502379</td>\n",
       "      <td>var40</td>\n",
       "    </tr>\n",
       "    <tr>\n",
       "      <th>3</th>\n",
       "      <td>imp_op_var40_comer_ult3</td>\n",
       "      <td>-0.765758</td>\n",
       "      <td>-0.506350</td>\n",
       "      <td>var40</td>\n",
       "    </tr>\n",
       "    <tr>\n",
       "      <th>4</th>\n",
       "      <td>imp_op_var40_efect_ult1</td>\n",
       "      <td>-0.752256</td>\n",
       "      <td>-0.437745</td>\n",
       "      <td>var40</td>\n",
       "    </tr>\n",
       "  </tbody>\n",
       "</table>\n",
       "</div>"
      ],
      "text/plain": [
       "                     index  PCA Dimension 1  PCA Dimension 2 variable\n",
       "0  imp_op_var39_comer_ult1        -0.976697        -0.597967    var39\n",
       "1  imp_op_var39_comer_ult3        -0.981989        -0.598568    var39\n",
       "2  imp_op_var40_comer_ult1        -0.774900        -0.502379    var40\n",
       "3  imp_op_var40_comer_ult3        -0.765758        -0.506350    var40\n",
       "4  imp_op_var40_efect_ult1        -0.752256        -0.437745    var40"
      ]
     },
     "execution_count": 22,
     "metadata": {},
     "output_type": "execute_result"
    }
   ],
   "source": [
    "pca_data = pca_data.reset_index()\n",
    "pca_data['variable'] = pca_data['index'].apply(get_variable)\n",
    "pca_data.head()"
   ]
  },
  {
   "cell_type": "code",
   "execution_count": 23,
   "metadata": {
    "collapsed": false,
    "deletable": true,
    "editable": true
   },
   "outputs": [
    {
     "data": {
      "text/plain": [
       "<seaborn.axisgrid.FacetGrid at 0x10dabe940>"
      ]
     },
     "execution_count": 23,
     "metadata": {},
     "output_type": "execute_result"
    },
    {
     "data": {
      "image/png": "[encoded data removed]",
      "text/plain": [
       "<matplotlib.figure.Figure at 0x114767b70>"
      ]
     },
     "metadata": {},
     "output_type": "display_data"
    }
   ],
   "source": [
    "sns.lmplot(x=\"PCA Dimension 1\", y=\"PCA Dimension 2\", hue=\"variable\", data=pca_data, fit_reg=False, palette='colorblind')"
   ]
  },
  {
   "cell_type": "markdown",
   "metadata": {
    "deletable": true,
    "editable": true
   },
   "source": [
    "## Feature Engineering"
   ]
  },
  {
   "cell_type": "markdown",
   "metadata": {
    "deletable": true,
    "editable": true
   },
   "source": [
    "### Extra Features"
   ]
  },
  {
   "cell_type": "markdown",
   "metadata": {
    "deletable": true,
    "editable": true
   },
   "source": [
    "#### Values sum. \"More money\""
   ]
  },
  {
   "cell_type": "code",
   "execution_count": 24,
   "metadata": {
    "collapsed": false,
    "deletable": true,
    "editable": true
   },
   "outputs": [],
   "source": [
    "def values_sum(df):\n",
    "    df['values_sum'] = df[features].sum(axis=1).astype(float)\n",
    "\n",
    "values_sum(train)\n",
    "values_sum(test)"
   ]
  },
  {
   "cell_type": "markdown",
   "metadata": {
    "deletable": true,
    "editable": true
   },
   "source": [
    "#### Count zeros. \"More products\""
   ]
  },
  {
   "cell_type": "code",
   "execution_count": 25,
   "metadata": {
    "collapsed": false,
    "deletable": true,
    "editable": true
   },
   "outputs": [],
   "source": [
    "def count_zeros(df):\n",
    "    zeros = (df.loc[:,features]==0).sum(axis=1).astype(float)\n",
    "    df.loc[:,'zeros'] = zeros\n",
    "\n",
    "count_zeros(train)\n",
    "count_zeros(test)"
   ]
  },
  {
   "cell_type": "markdown",
   "metadata": {
    "deletable": true,
    "editable": true
   },
   "source": [
    "#### Saldos"
   ]
  },
  {
   "cell_type": "code",
   "execution_count": 26,
   "metadata": {
    "collapsed": false,
    "deletable": true,
    "editable": true
   },
   "outputs": [],
   "source": [
    "saldo_var_columns = [c for c in train.columns if 'saldo_var']\n",
    "saldo_medio_hace2_columns = [c for c in train.columns if 'saldo_medio' in c and 'hace2' in c]\n",
    "saldo_medio_hace3_columns = [c for c in train.columns if 'saldo_medio' in c and 'hace3' in c]\n",
    "saldo_medio_ult1_columns = [c for c in train.columns if 'saldo_medio' in c and 'ult1' in c]\n",
    "saldo_medio_ult3_columns = [c for c in train.columns if 'saldo_medio' in c and 'ult3' in c]"
   ]
  },
  {
   "cell_type": "code",
   "execution_count": 27,
   "metadata": {
    "collapsed": false,
    "deletable": true,
    "editable": true
   },
   "outputs": [],
   "source": [
    "def sum_saldos(df):\n",
    "    df['sum_of_saldos'] = df[saldo_var_columns].sum(axis=1)\n",
    "    df['sum_of_saldo_medio_hace2'] = df[saldo_medio_hace2_columns].sum(axis=1)\n",
    "    df['sum_of_saldo_medio_hace3'] = df[saldo_medio_hace3_columns].sum(axis=1)\n",
    "    df['sum_of_saldo_medio_ult1'] = df[saldo_medio_ult1_columns].sum(axis=1)\n",
    "    df['sum_of_saldo_medio_ult3'] = df[saldo_medio_ult3_columns].sum(axis=1)\n",
    "\n",
    "sum_saldos(train)\n",
    "sum_saldos(test)"
   ]
  },
  {
   "cell_type": "markdown",
   "metadata": {
    "deletable": true,
    "editable": true
   },
   "source": [
    "#### VARs PCAs"
   ]
  },
  {
   "cell_type": "code",
   "execution_count": 28,
   "metadata": {
    "collapsed": false,
    "deletable": true,
    "editable": true,
    "scrolled": true
   },
   "outputs": [],
   "source": [
    "def make_pca(df, var, var_cols, n):\n",
    "    pca = PCA(n)\n",
    "    pca_data = pca.fit_transform(df[var_cols])\n",
    "    pca_cols =[var+'_pca_'+str(i+1) for i in range(n)]\n",
    "    return (pd.DataFrame(pca_data, columns=pca_cols),\n",
    "           pca.explained_variance_ratio_.sum())\n",
    "\n",
    "def make_pcas(floats_only=True):\n",
    "    train_pca = pd.DataFrame()\n",
    "    test_pca = pd.DataFrame()\n",
    "\n",
    "    df = pd.concat([train, test])\n",
    "    if floats_only: df = df.select_dtypes('float')\n",
    "    \n",
    "    for var in variables:\n",
    "        var_cols = [c for c in df.columns if var in c.split('_')]\n",
    "        if not var_cols: continue\n",
    "        n, e = (1,0)\n",
    "        while e<0.95:\n",
    "            _, e = make_pca(df, var, var_cols, n)\n",
    "            train_pca_temp, _ = make_pca(train, var, var_cols, n)\n",
    "            test_pca_temp, _ = make_pca(test, var, var_cols, n)\n",
    "            n+=1\n",
    "        train_pca = pd.concat([train_pca, train_pca_temp], axis=1)\n",
    "        test_pca = pd.concat([test_pca, test_pca_temp], axis=1)\n",
    "    return train_pca, test_pca\n",
    " \n",
    "train_pca, test_pca = make_pcas()"
   ]
  },
  {
   "cell_type": "code",
   "execution_count": 29,
   "metadata": {
    "collapsed": true,
    "deletable": true,
    "editable": true
   },
   "outputs": [],
   "source": [
    "extra_columns = ['values_sum','zeros','sum_of_saldos','sum_of_saldo_medio_hace2',\n",
    "                 'sum_of_saldo_medio_hace3','sum_of_saldo_medio_ult1','sum_of_saldo_medio_ult3']\n",
    "\n",
    "pca_columns = train_pca.columns.tolist()\n",
    "\n",
    "train = pd.concat([train, train_pca], axis=1)\n",
    "test = pd.concat([test, test_pca], axis=1)"
   ]
  },
  {
   "cell_type": "markdown",
   "metadata": {
    "deletable": true,
    "editable": true
   },
   "source": [
    "#### Useful integers"
   ]
  },
  {
   "cell_type": "code",
   "execution_count": 30,
   "metadata": {
    "collapsed": false,
    "deletable": true,
    "editable": true,
    "scrolled": true
   },
   "outputs": [],
   "source": [
    "useful_integers = []\n",
    "\n",
    "for c in train.select_dtypes('int').columns:\n",
    "    X_train, X_test, y_train, y_test = train_test_split(train.select_dtypes('float'),\n",
    "                                                        train[c],\n",
    "                                                        test_size = 0.25,\n",
    "                                                        random_state=3)\n",
    "    regressor = DecisionTreeRegressor(random_state=3)\n",
    "    regressor.fit(X_train, y_train)\n",
    "    score = regressor.score(X_test, y_test)\n",
    "#     print('{}: {}'.format(c, round(score,2)))\n",
    "    if score<0.9: useful_integers.append(c)"
   ]
  },
  {
   "cell_type": "code",
   "execution_count": 31,
   "metadata": {
    "collapsed": false,
    "deletable": true,
    "editable": true
   },
   "outputs": [],
   "source": [
    "train = train[pca_columns+extra_columns+useful_integers]\n",
    "test = test[pca_columns+extra_columns+useful_integers]"
   ]
  },
  {
   "cell_type": "markdown",
   "metadata": {
    "deletable": true,
    "editable": true
   },
   "source": [
    "## Feature Scaling"
   ]
  },
  {
   "cell_type": "markdown",
   "metadata": {
    "deletable": true,
    "editable": true
   },
   "source": [
    "### Scaling PCA"
   ]
  },
  {
   "cell_type": "code",
   "execution_count": 32,
   "metadata": {
    "collapsed": false,
    "deletable": true,
    "editable": true
   },
   "outputs": [],
   "source": [
    "min_max_scaler = MinMaxScaler()\n",
    "min_max_scaler.fit(pad.concat([train, test]).loc[:,pca_columns])\n",
    "train[pca_columns] = pd.DataFrame(min_max_scaler.transform(train[pca_columns]), columns=pca_columns)\n",
    "test[pca_columns] = pd.DataFrame(min_max_scaler.transform(test[pca_columns]), columns=pca_columns)\n",
    "\n",
    "minimum_pca = min([train[pca_columns].replace(0,1).min().min()/2, test[pca_columns].replace(0,1).min().min()/2])\n",
    "train[pca_columns] = train[pca_columns].replace(0,minimum_pca)\n",
    "test[pca_columns] = test[pca_columns].replace(0,minimum_pca)\n",
    "train[pca_columns] = train[pca_columns].apply(np.log)\n",
    "test[pca_columns] = test[pca_columns].apply(np.log)"
   ]
  },
  {
   "cell_type": "markdown",
   "metadata": {
    "deletable": true,
    "editable": true
   },
   "source": [
    "### Scaling extra columns"
   ]
  },
  {
   "cell_type": "code",
   "execution_count": 33,
   "metadata": {
    "collapsed": false,
    "deletable": true,
    "editable": true
   },
   "outputs": [
    {
     "data": {
      "text/plain": [
       "values_sum                  7066.780000\n",
       "zeros                        151.000000\n",
       "sum_of_saldos              14396.560000\n",
       "sum_of_saldo_medio_hace2    -287.670000\n",
       "sum_of_saldo_medio_hace3      -8.040000\n",
       "sum_of_saldo_medio_ult1    -3401.340000\n",
       "sum_of_saldo_medio_ult3    -1844.520000\n",
       "dtype: float64"
      ]
     },
     "execution_count": 33,
     "metadata": {},
     "output_type": "execute_result"
    }
   ],
   "source": [
    "train[extra_columns].min()"
   ]
  },
  {
   "cell_type": "code",
   "execution_count": 34,
   "metadata": {
    "collapsed": false,
    "deletable": true,
    "editable": true
   },
   "outputs": [
    {
     "data": {
      "image/png": "[encoded data removed]",
      "text/plain": [
       "<matplotlib.figure.Figure at 0x113fcd8d0>"
      ]
     },
     "metadata": {},
     "output_type": "display_data"
    }
   ],
   "source": [
    "sns.distplot(train['zeros']);"
   ]
  },
  {
   "cell_type": "code",
   "execution_count": 35,
   "metadata": {
    "collapsed": false,
    "deletable": true,
    "editable": true
   },
   "outputs": [
    {
     "data": {
      "image/png": "[encoded data removed]",
      "text/plain": [
       "<matplotlib.figure.Figure at 0x10da9e1d0>"
      ]
     },
     "metadata": {},
     "output_type": "display_data"
    }
   ],
   "source": [
    "sns.distplot(train['values_sum']);"
   ]
  },
  {
   "cell_type": "code",
   "execution_count": 36,
   "metadata": {
    "collapsed": false,
    "deletable": true,
    "editable": true
   },
   "outputs": [
    {
     "data": {
      "image/png": "[encoded data removed]",
      "text/plain": [
       "<matplotlib.figure.Figure at 0x10d84ce80>"
      ]
     },
     "metadata": {},
     "output_type": "display_data"
    }
   ],
   "source": [
    "sns.distplot(train['values_sum'].apply(np.log));"
   ]
  },
  {
   "cell_type": "code",
   "execution_count": 37,
   "metadata": {
    "collapsed": true,
    "deletable": true,
    "editable": true
   },
   "outputs": [],
   "source": [
    "train['values_sum'] = train['values_sum'].apply(np.log)\n",
    "test['values_sum'] = test['values_sum'].apply(np.log)"
   ]
  },
  {
   "cell_type": "markdown",
   "metadata": {
    "deletable": true,
    "editable": true
   },
   "source": [
    "#### Scaling Saldos"
   ]
  },
  {
   "cell_type": "code",
   "execution_count": 38,
   "metadata": {
    "collapsed": false,
    "deletable": true,
    "editable": true
   },
   "outputs": [
    {
     "data": {
      "image/png": "[encoded data removed]",
      "text/plain": [
       "<matplotlib.figure.Figure at 0x11440aa90>"
      ]
     },
     "metadata": {},
     "output_type": "display_data"
    }
   ],
   "source": [
    "sns.distplot(train['sum_of_saldos']);"
   ]
  },
  {
   "cell_type": "code",
   "execution_count": 39,
   "metadata": {
    "collapsed": false,
    "deletable": true,
    "editable": true
   },
   "outputs": [
    {
     "data": {
      "image/png": "[encoded data removed]",
      "text/plain": [
       "<matplotlib.figure.Figure at 0x1144e7240>"
      ]
     },
     "metadata": {},
     "output_type": "display_data"
    }
   ],
   "source": [
    "sns.distplot(train['sum_of_saldos'].apply(np.log));"
   ]
  },
  {
   "cell_type": "code",
   "execution_count": 40,
   "metadata": {
    "collapsed": false,
    "deletable": true,
    "editable": true
   },
   "outputs": [],
   "source": [
    "saldos = ['sum_of_saldos', 'sum_of_saldo_medio_hace2', 'sum_of_saldo_medio_hace3', 'sum_of_saldo_medio_ult1', 'sum_of_saldo_medio_ult3']\n",
    "min_saldo = min(train[saldos].min().min(), test[saldos].min().min())\n",
    "max_saldo = max([train[saldos].max().max(), test[saldos].max().max()])\n",
    "saldo_range = max_saldo - min_saldo\n",
    "\n",
    "train[saldos] = train[saldos].apply(lambda x: (x - min_saldo) / saldo_range)\n",
    "test[saldos] = test[saldos].apply(lambda x: (x - min_saldo) / saldo_range)\n",
    "\n",
    "minimum_saldo = min([train[saldos].replace(0,1).min().min()/2, test[saldos].replace(0,1).min().min()/2])\n",
    "train[saldos] = train[saldos].replace(0,minimum_saldo)\n",
    "test[saldos] = test[saldos].replace(0,minimum_saldo)\n",
    "train[saldos] = train[saldos].apply(np.log)\n",
    "test[saldos] = test[saldos].apply(np.log)"
   ]
  },
  {
   "cell_type": "markdown",
   "metadata": {
    "deletable": true,
    "editable": true
   },
   "source": [
    "### Feature Selection"
   ]
  },
  {
   "cell_type": "markdown",
   "metadata": {
    "deletable": true,
    "editable": true
   },
   "source": [
    "#### Feature Importance"
   ]
  },
  {
   "cell_type": "code",
   "execution_count": 41,
   "metadata": {
    "collapsed": false,
    "deletable": true,
    "editable": true
   },
   "outputs": [],
   "source": [
    "def get_feature_importances():\n",
    "    from sklearn.ensemble import RandomForestClassifier\n",
    "    rf_classifier = RandomForestClassifier(random_state=1, class_weight='balanced')\n",
    "\n",
    "    n = len(train.columns)-1\n",
    "    X = train\n",
    "    y = target\n",
    "    rf_classifier.fit(X, y)\n",
    "\n",
    "    i_rf = rf_classifier.feature_importances_\n",
    "    \n",
    "    importances = pd.DataFrame({'i': i_rf}, index=train.columns)\n",
    "    importances.sort_values('i', ascending=False, inplace=True)\n",
    "    \n",
    "    return importances"
   ]
  },
  {
   "cell_type": "code",
   "execution_count": 42,
   "metadata": {
    "collapsed": false,
    "deletable": true,
    "editable": true,
    "scrolled": true
   },
   "outputs": [],
   "source": [
    "importances = get_feature_importances()"
   ]
  },
  {
   "cell_type": "code",
   "execution_count": 43,
   "metadata": {
    "collapsed": true,
    "deletable": true,
    "editable": true
   },
   "outputs": [],
   "source": [
    "# most_important = importances.head(50).index\n",
    "importances = importances[importances.i>0]\n",
    "most_important = importances[importances.i>importances.i.mean()].index.tolist()\n",
    "# most_important = importances[importances.i>0].index.tolist()\n",
    "most_important = importances.head(50).index.tolist()"
   ]
  },
  {
   "cell_type": "code",
   "execution_count": 44,
   "metadata": {
    "collapsed": true,
    "deletable": true,
    "editable": true
   },
   "outputs": [],
   "source": [
    "train = train[most_important]\n",
    "test = test[most_important]"
   ]
  },
  {
   "cell_type": "markdown",
   "metadata": {
    "deletable": true,
    "editable": true
   },
   "source": [
    "## Baselines"
   ]
  },
  {
   "cell_type": "code",
   "execution_count": 45,
   "metadata": {
    "collapsed": false,
    "deletable": true,
    "editable": true
   },
   "outputs": [
    {
     "data": {
      "text/html": [
       "<div>\n",
       "<style scoped>\n",
       "    .dataframe tbody tr th:only-of-type {\n",
       "        vertical-align: middle;\n",
       "    }\n",
       "\n",
       "    .dataframe tbody tr th {\n",
       "        vertical-align: top;\n",
       "    }\n",
       "\n",
       "    .dataframe thead th {\n",
       "        text-align: right;\n",
       "    }\n",
       "</style>\n",
       "<table border=\"1\" class=\"dataframe\">\n",
       "  <thead>\n",
       "    <tr style=\"text-align: right;\">\n",
       "      <th></th>\n",
       "      <th>var15</th>\n",
       "      <th>values_sum</th>\n",
       "      <th>sum_of_saldos</th>\n",
       "      <th>var38_pca_1</th>\n",
       "      <th>sum_of_saldo_medio_ult1</th>\n",
       "      <th>var5_pca_1</th>\n",
       "      <th>zeros</th>\n",
       "      <th>sum_of_saldo_medio_hace3</th>\n",
       "      <th>sum_of_saldo_medio_ult3</th>\n",
       "      <th>var42_pca_1</th>\n",
       "      <th>...</th>\n",
       "      <th>var3</th>\n",
       "      <th>num_var30_0</th>\n",
       "      <th>var16_pca_2</th>\n",
       "      <th>var8_pca_3</th>\n",
       "      <th>num_var41_0</th>\n",
       "      <th>num_var35</th>\n",
       "      <th>num_aport_var13_hace3</th>\n",
       "      <th>num_op_var39_hace2</th>\n",
       "      <th>num_op_var39_comer_ult1</th>\n",
       "      <th>num_var39_0</th>\n",
       "    </tr>\n",
       "  </thead>\n",
       "  <tbody>\n",
       "    <tr>\n",
       "      <th>0</th>\n",
       "      <td>23</td>\n",
       "      <td>10.580256</td>\n",
       "      <td>-6.879617</td>\n",
       "      <td>-6.629757</td>\n",
       "      <td>-9.929703</td>\n",
       "      <td>-5.994452</td>\n",
       "      <td>278.000000</td>\n",
       "      <td>-9.929703</td>\n",
       "      <td>-9.929703</td>\n",
       "      <td>-6.749122</td>\n",
       "      <td>...</td>\n",
       "      <td>2</td>\n",
       "      <td>3</td>\n",
       "      <td>-4.909839</td>\n",
       "      <td>-0.915162</td>\n",
       "      <td>3</td>\n",
       "      <td>0</td>\n",
       "      <td>0</td>\n",
       "      <td>0</td>\n",
       "      <td>0</td>\n",
       "      <td>3</td>\n",
       "    </tr>\n",
       "    <tr>\n",
       "      <th>1</th>\n",
       "      <td>34</td>\n",
       "      <td>10.851701</td>\n",
       "      <td>-6.620542</td>\n",
       "      <td>-6.395466</td>\n",
       "      <td>-9.856067</td>\n",
       "      <td>-5.987572</td>\n",
       "      <td>252.000000</td>\n",
       "      <td>-9.877326</td>\n",
       "      <td>-9.870187</td>\n",
       "      <td>-6.749122</td>\n",
       "      <td>...</td>\n",
       "      <td>2</td>\n",
       "      <td>6</td>\n",
       "      <td>-4.909839</td>\n",
       "      <td>-0.915162</td>\n",
       "      <td>3</td>\n",
       "      <td>3</td>\n",
       "      <td>3</td>\n",
       "      <td>0</td>\n",
       "      <td>0</td>\n",
       "      <td>3</td>\n",
       "    </tr>\n",
       "    <tr>\n",
       "      <th>2</th>\n",
       "      <td>23</td>\n",
       "      <td>11.120076</td>\n",
       "      <td>-6.361285</td>\n",
       "      <td>-6.077449</td>\n",
       "      <td>-9.928939</td>\n",
       "      <td>-5.992543</td>\n",
       "      <td>263.000000</td>\n",
       "      <td>-9.929657</td>\n",
       "      <td>-9.929176</td>\n",
       "      <td>-6.748515</td>\n",
       "      <td>...</td>\n",
       "      <td>2</td>\n",
       "      <td>3</td>\n",
       "      <td>-4.909839</td>\n",
       "      <td>-0.915162</td>\n",
       "      <td>3</td>\n",
       "      <td>3</td>\n",
       "      <td>0</td>\n",
       "      <td>0</td>\n",
       "      <td>0</td>\n",
       "      <td>3</td>\n",
       "    </tr>\n",
       "    <tr>\n",
       "      <th>3</th>\n",
       "      <td>37</td>\n",
       "      <td>11.099442</td>\n",
       "      <td>-6.381503</td>\n",
       "      <td>-6.128929</td>\n",
       "      <td>-9.906649</td>\n",
       "      <td>-5.912381</td>\n",
       "      <td>234.000000</td>\n",
       "      <td>-9.929703</td>\n",
       "      <td>-9.894949</td>\n",
       "      <td>-6.734934</td>\n",
       "      <td>...</td>\n",
       "      <td>2</td>\n",
       "      <td>3</td>\n",
       "      <td>-4.909839</td>\n",
       "      <td>-0.915162</td>\n",
       "      <td>3</td>\n",
       "      <td>9</td>\n",
       "      <td>0</td>\n",
       "      <td>0</td>\n",
       "      <td>9</td>\n",
       "      <td>3</td>\n",
       "    </tr>\n",
       "    <tr>\n",
       "      <th>4</th>\n",
       "      <td>39</td>\n",
       "      <td>14.068192</td>\n",
       "      <td>-3.442102</td>\n",
       "      <td>-5.515543</td>\n",
       "      <td>-6.430316</td>\n",
       "      <td>-3.692804</td>\n",
       "      <td>242.000000</td>\n",
       "      <td>-9.929627</td>\n",
       "      <td>-6.663262</td>\n",
       "      <td>-3.405693</td>\n",
       "      <td>...</td>\n",
       "      <td>2</td>\n",
       "      <td>6</td>\n",
       "      <td>-4.909839</td>\n",
       "      <td>-0.915162</td>\n",
       "      <td>3</td>\n",
       "      <td>3</td>\n",
       "      <td>0</td>\n",
       "      <td>0</td>\n",
       "      <td>0</td>\n",
       "      <td>3</td>\n",
       "    </tr>\n",
       "  </tbody>\n",
       "</table>\n",
       "<p>5 rows × 50 columns</p>\n",
       "</div>"
      ],
      "text/plain": [
       "   var15  values_sum  sum_of_saldos  var38_pca_1  sum_of_saldo_medio_ult1  \\\n",
       "0     23   10.580256      -6.879617    -6.629757                -9.929703   \n",
       "1     34   10.851701      -6.620542    -6.395466                -9.856067   \n",
       "2     23   11.120076      -6.361285    -6.077449                -9.928939   \n",
       "3     37   11.099442      -6.381503    -6.128929                -9.906649   \n",
       "4     39   14.068192      -3.442102    -5.515543                -6.430316   \n",
       "\n",
       "   var5_pca_1      zeros  sum_of_saldo_medio_hace3  sum_of_saldo_medio_ult3  \\\n",
       "0   -5.994452 278.000000                 -9.929703                -9.929703   \n",
       "1   -5.987572 252.000000                 -9.877326                -9.870187   \n",
       "2   -5.992543 263.000000                 -9.929657                -9.929176   \n",
       "3   -5.912381 234.000000                 -9.929703                -9.894949   \n",
       "4   -3.692804 242.000000                 -9.929627                -6.663262   \n",
       "\n",
       "   var42_pca_1     ...       var3  num_var30_0  var16_pca_2  var8_pca_3  \\\n",
       "0    -6.749122     ...          2            3    -4.909839   -0.915162   \n",
       "1    -6.749122     ...          2            6    -4.909839   -0.915162   \n",
       "2    -6.748515     ...          2            3    -4.909839   -0.915162   \n",
       "3    -6.734934     ...          2            3    -4.909839   -0.915162   \n",
       "4    -3.405693     ...          2            6    -4.909839   -0.915162   \n",
       "\n",
       "   num_var41_0  num_var35  num_aport_var13_hace3  num_op_var39_hace2  \\\n",
       "0            3          0                      0                   0   \n",
       "1            3          3                      3                   0   \n",
       "2            3          3                      0                   0   \n",
       "3            3          9                      0                   0   \n",
       "4            3          3                      0                   0   \n",
       "\n",
       "   num_op_var39_comer_ult1  num_var39_0  \n",
       "0                        0            3  \n",
       "1                        0            3  \n",
       "2                        0            3  \n",
       "3                        9            3  \n",
       "4                        0            3  \n",
       "\n",
       "[5 rows x 50 columns]"
      ]
     },
     "execution_count": 45,
     "metadata": {},
     "output_type": "execute_result"
    }
   ],
   "source": [
    "train.head()"
   ]
  },
  {
   "cell_type": "code",
   "execution_count": 1,
   "metadata": {
    "collapsed": false
   },
   "outputs": [
    {
     "name": "stdout",
     "output_type": "stream",
     "text": [
      "0.79091707944\n",
      "0.814602680447\n",
      "0.838330710024\n"
     ]
    }
   ],
   "source": [
    "from sklearn.model_selection import cross_val_score\n",
    "from sklearn.ensemble import RandomForestClassifier\n",
    "from sklearn.linear_model import LogisticRegression\n",
    "from sklearn.svm import SVC\n",
    "from xgboost import XGBClassifier\n",
    "\n",
    "lr_baseline = LogisticRegression(class_weight= {0:0.2, 1:0.8})\n",
    "rf_baseline = RandomForestClassifier(class_weight= 'balanced', max_depth=10)\n",
    "xgb_baseline = XGBClassifier()\n",
    "\n",
    "print(cross_val_score(lr_baseline, train, target, cv=3, scoring='roc_auc').mean())\n",
    "print(cross_val_score(rf_baseline, train, target, cv=3, scoring='roc_auc').mean())\n",
    "print(cross_val_score(xgb_baseline, train, target, cv=3, scoring='roc_auc').mean())"
   ]
  },
  {
   "cell_type": "markdown",
   "metadata": {
    "deletable": true,
    "editable": true
   },
   "source": [
    "## Parameter Optmization\n",
    "### Grid Search"
   ]
  },
  {
   "cell_type": "code",
   "execution_count": 47,
   "metadata": {
    "collapsed": true,
    "deletable": true,
    "editable": true
   },
   "outputs": [],
   "source": [
    "from sklearn.model_selection import GridSearchCV"
   ]
  },
  {
   "cell_type": "markdown",
   "metadata": {
    "deletable": true,
    "editable": true
   },
   "source": [
    "#### Random Forest"
   ]
  },
  {
   "cell_type": "code",
   "execution_count": 48,
   "metadata": {
    "collapsed": false,
    "deletable": true,
    "editable": true
   },
   "outputs": [
    {
     "data": {
      "text/plain": [
       "RandomForestClassifier(bootstrap=True, class_weight='balanced',\n",
       "            criterion='gini', max_depth=10, max_features='auto',\n",
       "            max_leaf_nodes=None, min_impurity_decrease=0.0,\n",
       "            min_impurity_split=None, min_samples_leaf=1,\n",
       "            min_samples_split=2, min_weight_fraction_leaf=0.0,\n",
       "            n_estimators=10, n_jobs=1, oob_score=False, random_state=None,\n",
       "            verbose=0, warm_start=False)"
      ]
     },
     "execution_count": 48,
     "metadata": {},
     "output_type": "execute_result"
    }
   ],
   "source": [
    "rf_baseline"
   ]
  },
  {
   "cell_type": "code",
   "execution_count": 59,
   "metadata": {
    "collapsed": false,
    "deletable": true,
    "editable": true
   },
   "outputs": [
    {
     "name": "stdout",
     "output_type": "stream",
     "text": [
      "Fitting 3 folds for each of 192 candidates, totalling 576 fits\n"
     ]
    },
    {
     "name": "stderr",
     "output_type": "stream",
     "text": [
      "[Parallel(n_jobs=1)]: Done 576 out of 576 | elapsed: 231.1min finished\n"
     ]
    },
    {
     "name": "stdout",
     "output_type": "stream",
     "text": [
      "0.8355764373111416\n"
     ]
    },
    {
     "data": {
      "text/plain": [
       "RandomForestClassifier(bootstrap=True, class_weight='balanced',\n",
       "            criterion='gini', max_depth=20, max_features='auto',\n",
       "            max_leaf_nodes=None, min_impurity_decrease=0.0,\n",
       "            min_impurity_split=None, min_samples_leaf=1,\n",
       "            min_samples_split=1000, min_weight_fraction_leaf=0.0,\n",
       "            n_estimators=1000, n_jobs=-1, oob_score=False, random_state=1,\n",
       "            verbose=0, warm_start=False)"
      ]
     },
     "execution_count": 59,
     "metadata": {},
     "output_type": "execute_result"
    }
   ],
   "source": [
    "rf_clf = RandomForestClassifier(random_state=1, class_weight = 'balanced', n_estimators = 1000, n_jobs=-1)\n",
    "\n",
    "rf_parameters = {'max_depth': [3, 5, 10, 20],\n",
    "                 'min_samples_leaf': [1, 5, 50],\n",
    "                 'min_samples_split': [2, 100, 1000, 3000], \n",
    "                 'n_estimators': [10, 100, 1000, 3000]}\n",
    "\n",
    "rf_grid_obj = GridSearchCV(rf_clf, rf_parameters, scoring='roc_auc', verbose=1, cv=3)\n",
    "rf_grid_obj = rf_grid_obj.fit(train, target)\n",
    "rf_opt =  rf_grid_obj.best_estimator_\n",
    "print(rf_grid_obj.best_score_)\n",
    "rf_opt"
   ]
  },
  {
   "cell_type": "markdown",
   "metadata": {
    "deletable": true,
    "editable": true
   },
   "source": [
    "#### XGBoost"
   ]
  },
  {
   "cell_type": "code",
   "execution_count": 60,
   "metadata": {
    "collapsed": false,
    "deletable": true,
    "editable": true
   },
   "outputs": [
    {
     "data": {
      "text/plain": [
       "XGBClassifier(base_score=0.5, booster='gbtree', colsample_bylevel=1,\n",
       "       colsample_bytree=1, gamma=0, learning_rate=0.1, max_delta_step=0,\n",
       "       max_depth=3, min_child_weight=1, missing=None, n_estimators=100,\n",
       "       n_jobs=1, nthread=None, objective='binary:logistic', random_state=0,\n",
       "       reg_alpha=0, reg_lambda=1, scale_pos_weight=1, seed=None,\n",
       "       silent=True, subsample=1)"
      ]
     },
     "execution_count": 60,
     "metadata": {},
     "output_type": "execute_result"
    }
   ],
   "source": [
    "xgb_baseline"
   ]
  },
  {
   "cell_type": "code",
   "execution_count": 73,
   "metadata": {
    "collapsed": false,
    "deletable": true,
    "editable": true,
    "scrolled": true
   },
   "outputs": [
    {
     "name": "stdout",
     "output_type": "stream",
     "text": [
      "Fitting 3 folds for each of 12 candidates, totalling 36 fits\n"
     ]
    },
    {
     "name": "stderr",
     "output_type": "stream",
     "text": [
      "[Parallel(n_jobs=1)]: Done  36 out of  36 | elapsed: 115.2min finished\n"
     ]
    },
    {
     "name": "stdout",
     "output_type": "stream",
     "text": [
      "0.8379826023928619\n"
     ]
    },
    {
     "data": {
      "text/plain": [
       "XGBClassifier(base_score=0.1, booster='gbtree', colsample_bylevel=1,\n",
       "       colsample_bytree=1, gamma=0, learning_rate=0.01, max_delta_step=0,\n",
       "       max_depth=3, min_child_weight=1, missing=None, n_estimators=1000,\n",
       "       n_jobs=-1, nthread=None, objective='binary:logistic',\n",
       "       random_state=0, reg_alpha=0, reg_lambda=1, scale_pos_weight=1,\n",
       "       seed=None, silent=False, subsample=1)"
      ]
     },
     "execution_count": 73,
     "metadata": {},
     "output_type": "execute_result"
    }
   ],
   "source": [
    "xgb_clf = XGBClassifier(n_jobs=-1)\n",
    "xgb_parameters = {'base_score': [0.1, 0.5],\n",
    "                  'max_depth': [3, 6, 9],\n",
    "                  'learning_rate': [0.01, 0.1],\n",
    "                  'n_estimators': [100, 1000]}\n",
    "                \n",
    "xgb_grid_obj = GridSearchCV(xgb_clf, xgb_parameters, scoring='roc_auc', verbose=1, cv=3)\n",
    "\n",
    "xgb_grid_obj = xgb_grid_obj.fit(train, target)\n",
    "xgb_opt =  xgb_grid_obj.best_estimator_\n",
    "print(xgb_grid_obj.best_score_)\n",
    "xgb_opt"
   ]
  },
  {
   "cell_type": "code",
   "execution_count": 94,
   "metadata": {
    "collapsed": false
   },
   "outputs": [
    {
     "name": "stdout",
     "output_type": "stream",
     "text": [
      "Fitting 3 folds for each of 8 candidates, totalling 24 fits\n"
     ]
    },
    {
     "name": "stderr",
     "output_type": "stream",
     "text": [
      "[Parallel(n_jobs=1)]: Done  24 out of  24 | elapsed:  6.0min finished\n"
     ]
    },
    {
     "name": "stdout",
     "output_type": "stream",
     "text": [
      "0.838330572643026\n"
     ]
    },
    {
     "data": {
      "text/plain": [
       "XGBClassifier(base_score=0.5, booster='gbtree', colsample_bylevel=1,\n",
       "       colsample_bytree=1, gamma=0, learning_rate=0.1, max_delta_step=0,\n",
       "       max_depth=3, min_child_weight=1, missing=None, n_estimators=100,\n",
       "       n_jobs=-1, nthread=None, objective='binary:logistic',\n",
       "       random_state=0, reg_alpha=0, reg_lambda=1, scale_pos_weight=1,\n",
       "       seed=None, silent=False, subsample=1)"
      ]
     },
     "execution_count": 94,
     "metadata": {},
     "output_type": "execute_result"
    }
   ],
   "source": [
    "xgb_clf = XGBClassifier(n_jobs=-1, silent=False, n_estimators=100)\n",
    "xgb_parameters = {'base_score': [0.1, 0.5],\n",
    "                  'max_depth': [3, 6],\n",
    "                  'learning_rate': [0.01, 0.1]}\n",
    "                \n",
    "xgb_grid_obj = GridSearchCV(xgb_clf, xgb_parameters, scoring='roc_auc', verbose=1, cv=3)\n",
    "\n",
    "xgb_grid_obj = xgb_grid_obj.fit(train, target)\n",
    "xgb_opt =  xgb_grid_obj.best_estimator_\n",
    "print(xgb_grid_obj.best_score_)\n",
    "xgb_opt"
   ]
  },
  {
   "cell_type": "markdown",
   "metadata": {
    "deletable": true,
    "editable": true
   },
   "source": [
    "## Final model & Submission"
   ]
  },
  {
   "cell_type": "code",
   "execution_count": 126,
   "metadata": {
    "collapsed": true,
    "deletable": true,
    "editable": true
   },
   "outputs": [],
   "source": [
    "model = xgb_opt\n",
    "model.fit(train,target)\n",
    "y_pred = model.predict_proba(test)[:,1]\n",
    "train_estimates = model.predict_proba(train)[:,1]"
   ]
  },
  {
   "cell_type": "code",
   "execution_count": 127,
   "metadata": {
    "collapsed": true
   },
   "outputs": [],
   "source": [
    "estimates_df = pd.DataFrame({'pred':train_estimates, 'target': target})"
   ]
  },
  {
   "cell_type": "code",
   "execution_count": 128,
   "metadata": {
    "collapsed": false,
    "deletable": true,
    "editable": true,
    "scrolled": false
   },
   "outputs": [
    {
     "data": {
      "image/png": "[encoded data removed]",
      "text/plain": [
       "<matplotlib.figure.Figure at 0x11437eba8>"
      ]
     },
     "metadata": {},
     "output_type": "display_data"
    }
   ],
   "source": [
    "sns.FacetGrid(estimates_df, hue=\"target\", size=6).map(sns.kdeplot, \"pred\").add_legend();"
   ]
  },
  {
   "cell_type": "code",
   "execution_count": 136,
   "metadata": {
    "collapsed": false
   },
   "outputs": [
    {
     "data": {
      "text/plain": [
       "0.746343085106383"
      ]
     },
     "execution_count": 136,
     "metadata": {},
     "output_type": "execute_result"
    }
   ],
   "source": [
    "(estimates_df.loc[estimates_df.target==1].pred>0.05).mean()"
   ]
  },
  {
   "cell_type": "code",
   "execution_count": 99,
   "metadata": {
    "collapsed": false,
    "deletable": true,
    "editable": true
   },
   "outputs": [],
   "source": [
    "def save_submission(prediction, name):\n",
    "    sub = pd.DataFrame()\n",
    "    sub['id'] = test_id\n",
    "    sub['target'] = prediction\n",
    "    sub.to_csv(name+'.csv', index=False)"
   ]
  },
  {
   "cell_type": "code",
   "execution_count": 100,
   "metadata": {
    "collapsed": false,
    "deletable": true,
    "editable": true
   },
   "outputs": [
    {
     "name": "stdout",
     "output_type": "stream",
     "text": [
      "Predictions saved.\n"
     ]
    }
   ],
   "source": [
    "save_submission(y_pred, 'xgb')\n",
    "print('Predictions saved.')"
   ]
  }
 ],
 "metadata": {
  "anaconda-cloud": {},
  "kernelspec": {
   "display_name": "Python [default]",
   "language": "python",
   "name": "python2"
  },
  "language_info": {
   "codemirror_mode": {
    "name": "ipython",
    "version": 2
   },
   "file_extension": ".py",
   "mimetype": "text/x-python",
   "name": "python",
   "nbconvert_exporter": "python",
   "pygments_lexer": "ipython2",
   "version": "2.7.12"
  }
 },
 "nbformat": 4,
 "nbformat_minor": 1
}
